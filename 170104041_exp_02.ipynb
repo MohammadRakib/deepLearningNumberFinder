{
  "nbformat": 4,
  "nbformat_minor": 0,
  "metadata": {
    "colab": {
      "name": "170104041_exp_02.ipynb",
      "provenance": [],
      "collapsed_sections": [
        "haU0yU-x0V_v",
        "tJ8Qd54Oswn4"
      ]
    },
    "kernelspec": {
      "name": "python3",
      "display_name": "Python 3"
    },
    "language_info": {
      "name": "python"
    },
    "accelerator": "GPU"
  },
  "cells": [
    {
      "cell_type": "code",
      "metadata": {
        "id": "M3XDZhDl1uHB"
      },
      "source": [
        "import torch\n",
        "import torch.nn as nn\n",
        "import torchvision.transforms as transforms"
      ],
      "execution_count": 56,
      "outputs": []
    },
    {
      "cell_type": "code",
      "metadata": {
        "colab": {
          "base_uri": "https://localhost:8080/"
        },
        "id": "3SsQ0TNZPRdD",
        "outputId": "7d0b222c-cb51-4d61-ab37-cf5979ae042a"
      },
      "source": [
        "from google.colab import drive\n",
        "drive.mount('/content/drive')\n",
        "main_directory = '/content/drive/My Drive/soft coding lab/assignment 2/training-c/'\n",
        "csv_directory = '/content/drive/My Drive/soft coding lab/assignment 2/training-c.csv'\n",
        "second_dataset_directory = '/content/drive/My Drive/soft coding lab/assignment 2/Dataset_2/'"
      ],
      "execution_count": 57,
      "outputs": [
        {
          "output_type": "stream",
          "name": "stdout",
          "text": [
            "Drive already mounted at /content/drive; to attempt to forcibly remount, call drive.mount(\"/content/drive\", force_remount=True).\n"
          ]
        }
      ]
    },
    {
      "cell_type": "code",
      "metadata": {
        "id": "qORxk9MfQuWa"
      },
      "source": [
        "from matplotlib import image\n",
        "from PIL import Image\n",
        "from matplotlib import pyplot\n",
        "import numpy as np\n",
        "import pandas as pd\n",
        "import os\n",
        "from torch.utils.data import Dataset\n",
        "from torchvision.transforms import ToTensor\n",
        "import cv2"
      ],
      "execution_count": 58,
      "outputs": []
    },
    {
      "cell_type": "markdown",
      "metadata": {
        "id": "haU0yU-x0V_v"
      },
      "source": [
        "#**Dataset 1**"
      ]
    },
    {
      "cell_type": "code",
      "metadata": {
        "id": "E4Vqps40agM1"
      },
      "source": [
        "# df = pd.read_csv(csv_directory)\n",
        "# print(df)"
      ],
      "execution_count": 59,
      "outputs": []
    },
    {
      "cell_type": "code",
      "metadata": {
        "id": "1jjgRMVkbdur"
      },
      "source": [
        "# for x in df.columns:\n",
        "#     if x != 'filename' and x != 'digit':\n",
        "#       df.drop(x, axis=1, inplace=True)\n",
        "      \n",
        "# print(df)"
      ],
      "execution_count": 60,
      "outputs": []
    },
    {
      "cell_type": "code",
      "metadata": {
        "id": "TKQsZ9exwlif"
      },
      "source": [
        "# class CustomImageDataset(Dataset):\n",
        "#     def __init__(self, annotations_file, img_dir, transform=None, target_transform=None):\n",
        "#         self.img_labels = annotations_file\n",
        "#         self.img_dir = img_dir\n",
        "#         self.transform = transform\n",
        "#         self.target_transform = target_transform\n",
        "\n",
        "#     def __len__(self):\n",
        "#         return len(self.img_labels)\n",
        "\n",
        "#     def __getitem__(self, idx):\n",
        "#         img_path = os.path.join(self.img_dir, self.img_labels.iloc[idx, 0])\n",
        "#         image = cv2.imread(img_path,-1)\n",
        "#         label = self.img_labels.iloc[idx, 1]\n",
        "#         if self.transform:\n",
        "#             image = self.transform(image)\n",
        "#         if self.target_transform:\n",
        "#             label = self.target_transform(label)\n",
        "#         return image, label"
      ],
      "execution_count": 61,
      "outputs": []
    },
    {
      "cell_type": "code",
      "metadata": {
        "id": "lbV3IX3GxeMR"
      },
      "source": [
        "# Final_Dataset = CustomImageDataset(annotations_file=df, img_dir= main_directory, transform= ToTensor())"
      ],
      "execution_count": 62,
      "outputs": []
    },
    {
      "cell_type": "code",
      "metadata": {
        "id": "oAUwePcezKNf"
      },
      "source": [
        "# print(Final_Dataset[0][0].size())\n",
        "# print(Final_Dataset[0])"
      ],
      "execution_count": 63,
      "outputs": []
    },
    {
      "cell_type": "code",
      "metadata": {
        "id": "TcVUkJVO_dMm"
      },
      "source": [
        "# print(len(Final_Dataset))"
      ],
      "execution_count": 64,
      "outputs": []
    },
    {
      "cell_type": "code",
      "metadata": {
        "id": "npXcVjLWAPxu"
      },
      "source": [
        "# train_set,test_set = torch.utils.data.random_split(Final_Dataset,[19438,4860])\n",
        "# print(len(train_set))\n",
        "# print(len(test_set))"
      ],
      "execution_count": 65,
      "outputs": []
    },
    {
      "cell_type": "code",
      "metadata": {
        "id": "oU6QOnXvCQ7V"
      },
      "source": [
        "# batch_size = 50\n",
        "# train_loader = torch.utils.data.DataLoader(dataset=train_set, \n",
        "#                                            batch_size=batch_size, \n",
        "#                                            shuffle=True)  \n",
        "\n",
        "# test_loader = torch.utils.data.DataLoader(dataset=test_set, \n",
        "#                                           batch_size=batch_size, \n",
        "#                                           shuffle=False)  "
      ],
      "execution_count": 66,
      "outputs": []
    },
    {
      "cell_type": "code",
      "metadata": {
        "id": "goWHu8k9KbdU"
      },
      "source": [
        "num_iters = 30000\n",
        "input_dim = 180*180\n",
        "num_hidden = 1000\n",
        "output_dim = 10\n",
        "learning_rate = 0.07\n",
        "\n",
        "# Device\n",
        "device = torch.device(\"cuda:0\" if torch.cuda.is_available() else \"cpu\")"
      ],
      "execution_count": 67,
      "outputs": []
    },
    {
      "cell_type": "code",
      "metadata": {
        "id": "4UnZXUiCKYOt"
      },
      "source": [
        "class DeepNeuralNetworkModel(nn.Module):\n",
        "    def __init__(self, input_size, num_classes, num_hidden):\n",
        "        super().__init__()\n",
        "        \n",
        "        self.linear_1 = nn.Linear(input_size, num_hidden)\n",
        "        self.relu_1 = nn.ReLU()\n",
        "\n",
        "        self.linear_2 = nn.Linear(num_hidden, num_hidden)\n",
        "        self.relu_2 = nn.ReLU()\n",
        "\n",
        "        self.linear_3 = nn.Linear(num_hidden, num_hidden)\n",
        "        self.relu_3 = nn.ReLU()\n",
        "\n",
        "        self.linear_4 = nn.Linear(num_hidden, num_hidden)\n",
        "        self.relu_4 = nn.ReLU()\n",
        "\n",
        "        self.linear_5 = nn.Linear(num_hidden, num_hidden)\n",
        "        self.relu_5 = nn.ReLU()\n",
        "\n",
        "        self.linear_6 = nn.Linear(num_hidden, num_hidden)\n",
        "        self.relu_6 = nn.ReLU()\n",
        "\n",
        "        self.linear_7 = nn.Linear(num_hidden, num_hidden)\n",
        "        self.relu_7 = nn.ReLU()\n",
        "\n",
        "        self.linear_8 = nn.Linear(num_hidden, num_hidden)\n",
        "        self.relu_8 = nn.ReLU()\n",
        "\n",
        "        self.linear_9 = nn.Linear(num_hidden, num_hidden)\n",
        "        self.relu_9 = nn.ReLU()\n",
        "\n",
        "        self.linear_10 = nn.Linear(num_hidden, num_hidden)\n",
        "        self.relu_10 = nn.ReLU()\n",
        "\n",
        "        self.linear_11 = nn.Linear(num_hidden, num_hidden)\n",
        "        self.relu_11 = nn.ReLU()\n",
        "\n",
        "        self.linear_12 = nn.Linear(num_hidden, num_hidden)\n",
        "        self.relu_12 = nn.ReLU()\n",
        "\n",
        "        self.linear_13 = nn.Linear(num_hidden, num_hidden)\n",
        "        self.relu_13 = nn.ReLU()\n",
        "\n",
        "        self.linear_14 = nn.Linear(num_hidden, num_hidden)\n",
        "        self.relu_14 = nn.ReLU()\n",
        "\n",
        "        self.linear_15 = nn.Linear(num_hidden, num_hidden)\n",
        "        self.relu_15 = nn.ReLU()\n",
        "\n",
        "        self.linear_16 = nn.Linear(num_hidden, num_hidden)\n",
        "        self.relu_16 = nn.ReLU()\n",
        "\n",
        "        self.linear_17 = nn.Linear(num_hidden, num_hidden)\n",
        "        self.relu_17 = nn.ReLU()\n",
        "\n",
        "        self.linear_18 = nn.Linear(num_hidden, num_hidden)\n",
        "        self.relu_18 = nn.ReLU()\n",
        "\n",
        "        self.linear_19 = nn.Linear(num_hidden, num_hidden)\n",
        "        self.relu_19 = nn.ReLU()\n",
        "\n",
        "        self.linear_20 = nn.Linear(num_hidden, num_hidden)\n",
        "        self.relu_20 = nn.ReLU()\n",
        "\n",
        "        self.linear_21 = nn.Linear(num_hidden, num_hidden)\n",
        "        self.relu_21 = nn.ReLU()\n",
        "\n",
        "        self.linear_22 = nn.Linear(num_hidden, num_hidden)\n",
        "        self.relu_22 = nn.ReLU()\n",
        "\n",
        "        self.linear_23 = nn.Linear(num_hidden, num_hidden)\n",
        "        self.relu_23 = nn.ReLU()\n",
        "\n",
        "        self.linear_24 = nn.Linear(num_hidden, num_hidden)\n",
        "        self.relu_24 = nn.ReLU()\n",
        "\n",
        "        self.linear_25 = nn.Linear(num_hidden, num_hidden)\n",
        "        self.relu_25 = nn.ReLU()\n",
        "\n",
        "        self.linear_26 = nn.Linear(num_hidden, num_hidden)\n",
        "        self.relu_26 = nn.ReLU()\n",
        "\n",
        "        self.linear_27 = nn.Linear(num_hidden, num_hidden)\n",
        "        self.relu_27 = nn.ReLU()\n",
        "\n",
        "        self.linear_28 = nn.Linear(num_hidden, num_hidden)\n",
        "        self.relu_28 = nn.ReLU()\n",
        "\n",
        "        self.linear_29 = nn.Linear(num_hidden, num_hidden)\n",
        "        self.relu_29 = nn.ReLU()\n",
        "\n",
        "        self.linear_30 = nn.Linear(num_hidden, num_hidden)\n",
        "        self.relu_30 = nn.ReLU()\n",
        "\n",
        "        self.linear_out = nn.Linear(num_hidden, num_classes)\n",
        "\n",
        "    def forward(self, x):\n",
        "    \n",
        "        out  = self.linear_1(x)\n",
        "        out = self.relu_1(out)\n",
        "        \n",
        "        out  = self.linear_2(out)\n",
        "        out = self.relu_2(out)\n",
        "\n",
        "        out  = self.linear_3(out)\n",
        "        out = self.relu_3(out)\n",
        "\n",
        "        out  = self.linear_4(out)\n",
        "        out = self.relu_4(out)\n",
        "\n",
        "        out  = self.linear_5(out)\n",
        "        out = self.relu_5(out)\n",
        "\n",
        "        out  = self.linear_6(out)\n",
        "        out = self.relu_6(out)\n",
        "\n",
        "        out  = self.linear_7(out)\n",
        "        out = self.relu_7(out)\n",
        "\n",
        "        out  = self.linear_8(out)\n",
        "        out = self.relu_8(out)\n",
        "\n",
        "        out  = self.linear_9(out)\n",
        "        out = self.relu_9(out)\n",
        "\n",
        "        out  = self.linear_10(out)\n",
        "        out = self.relu_10(out)\n",
        "\n",
        "        out  = self.linear_11(out)\n",
        "        out = self.relu_11(out)\n",
        "\n",
        "        out  = self.linear_12(out)\n",
        "        out = self.relu_12(out)\n",
        "\n",
        "        out  = self.linear_13(out)\n",
        "        out = self.relu_13(out)\n",
        "\n",
        "        out  = self.linear_14(out)\n",
        "        out = self.relu_14(out)\n",
        "\n",
        "        out  = self.linear_15(out)\n",
        "        out = self.relu_15(out)\n",
        "\n",
        "        out  = self.linear_16(out)\n",
        "        out = self.relu_16(out)\n",
        "\n",
        "        out  = self.linear_17(out)\n",
        "        out = self.relu_17(out)\n",
        "\n",
        "        out  = self.linear_18(out)\n",
        "        out = self.relu_18(out)\n",
        "\n",
        "        out  = self.linear_19(out)\n",
        "        out = self.relu_19(out)\n",
        "\n",
        "        out  = self.linear_20(out)\n",
        "        out = self.relu_20(out)\n",
        "\n",
        "        out  = self.linear_21(out)\n",
        "        out = self.relu_21(out)\n",
        "\n",
        "        out  = self.linear_22(out)\n",
        "        out = self.relu_22(out)\n",
        "\n",
        "        out  = self.linear_23(out)\n",
        "        out = self.relu_23(out)\n",
        "\n",
        "        out  = self.linear_24(out)\n",
        "        out = self.relu_24(out)\n",
        "\n",
        "        out  = self.linear_25(out)\n",
        "        out = self.relu_25(out)\n",
        "\n",
        "        out  = self.linear_26(out)\n",
        "        out = self.relu_26(out)\n",
        "\n",
        "        out  = self.linear_27(out)\n",
        "        out = self.relu_27(out)\n",
        "\n",
        "        out  = self.linear_28(out)\n",
        "        out = self.relu_28(out)\n",
        "\n",
        "        out  = self.linear_29(out)\n",
        "        out = self.relu_29(out)\n",
        "\n",
        "        out  = self.linear_30(out)\n",
        "        out = self.relu_30(out)\n",
        "\n",
        "        # Linear layer (output)\n",
        "        probas  = self.linear_out(out)\n",
        "        return probas\n"
      ],
      "execution_count": 68,
      "outputs": []
    },
    {
      "cell_type": "code",
      "metadata": {
        "id": "rOzpz14MOrGd"
      },
      "source": [
        "# num_epochs = num_iters / (len(train_set) / batch_size)\n",
        "# num_epochs = int(num_epochs)"
      ],
      "execution_count": 69,
      "outputs": []
    },
    {
      "cell_type": "code",
      "metadata": {
        "id": "HZy9uUNjB835"
      },
      "source": [
        "# '''\n",
        "# INSTANTIATE MODEL CLASS\n",
        "# '''\n",
        "# model = DeepNeuralNetworkModel(input_size = input_dim,\n",
        "#                            num_classes = output_dim,\n",
        "#                            num_hidden = num_hidden)\n",
        "# # To enable GPU\n",
        "# model.to(device)"
      ],
      "execution_count": 70,
      "outputs": []
    },
    {
      "cell_type": "code",
      "metadata": {
        "id": "GvSkkwxICaVQ"
      },
      "source": [
        "# criterion = nn.CrossEntropyLoss()\n",
        "# optimizer = torch.optim.SGD(model.parameters(), lr=learning_rate)"
      ],
      "execution_count": 71,
      "outputs": []
    },
    {
      "cell_type": "code",
      "metadata": {
        "id": "OSycxNBGC9-p"
      },
      "source": [
        "# iteration_loss = []\n",
        "# iter = 0\n",
        "# for epoch in range(num_epochs):\n",
        "#     for i, (images, labels) in enumerate(train_loader):\n",
        "\n",
        "#         images = images.view(-1, 180*180).to(device)\n",
        "#         labels = labels.to(device)\n",
        "\n",
        "#         # Clear gradients w.r.t. parameters\n",
        "#         optimizer.zero_grad()\n",
        "\n",
        "#         # Forward pass to get output/logits\n",
        "#         outputs = model(images) \n",
        "\n",
        "#         # Calculate Loss: softmax --> cross entropy loss\n",
        "#         loss = criterion(outputs, labels)\n",
        "\n",
        "#         # Getting gradients w.r.t. parameters\n",
        "#         loss.backward()\n",
        "\n",
        "#         # Updating parameters\n",
        "#         optimizer.step()\n",
        "\n",
        "#         iter += 1\n",
        "#         print(iter)\n",
        "#         if iter % 500 == 0:\n",
        "#             # Calculate Accuracy         \n",
        "#             correct = 0\n",
        "#             total = 0\n",
        "#             # Iterate through test dataset\n",
        "#             for images, labels in test_loader:\n",
        "               \n",
        "#                 images = images.view(-1, 180*180).to(device)\n",
        "\n",
        "#                 # Forward pass only to get logits/output\n",
        "#                 outputs = model(images)\n",
        "\n",
        "#                 # Get predictions from the maximum value\n",
        "#                 _, predicted = torch.max(outputs, 1)\n",
        "\n",
        "#                 # Total number of labels\n",
        "#                 total += labels.size(0)\n",
        "\n",
        "\n",
        "#                 # Total correct predictions\n",
        "#                 if torch.cuda.is_available():\n",
        "#                     correct += (predicted.cpu() == labels.cpu()).sum() \n",
        "#                 else:\n",
        "#                     correct += (predicted == labels).sum()\n",
        "\n",
        "#             accuracy = 100 * correct.item() / total\n",
        "\n",
        "#             # Print Loss\n",
        "#             iteration_loss.append(loss.item())\n",
        "#             print('Iteration: {}. Loss: {}. Accuracy: {}'.format(iter, loss.item(), accuracy))"
      ],
      "execution_count": 72,
      "outputs": []
    },
    {
      "cell_type": "code",
      "metadata": {
        "id": "mnjoiacTGKFR"
      },
      "source": [
        "# import matplotlib\n",
        "# import matplotlib.pyplot as plt\n",
        "\n",
        "# print (iteration_loss)\n",
        "# plt.plot(iteration_loss)\n",
        "# plt.ylabel('Cross Entropy Loss')\n",
        "# plt.xlabel('Iteration (in every 500)')\n",
        "# plt.show()"
      ],
      "execution_count": 73,
      "outputs": []
    },
    {
      "cell_type": "code",
      "metadata": {
        "id": "O_ps60bnO1Vx"
      },
      "source": [
        "# save_path = '/content/drive/My Drive/soft coding lab/assignment 2/'\n",
        "# save_model = True\n",
        "\n",
        "# if save_model is True:\n",
        "#     # Saves only parameters\n",
        "#     # weights & biases\n",
        "#     torch.save(model.state_dict(), save_path + 'Assignment2_model_exp2_2.pkl') "
      ],
      "execution_count": 74,
      "outputs": []
    },
    {
      "cell_type": "code",
      "metadata": {
        "id": "Eqa7GWJVPJjI"
      },
      "source": [
        "# load_model = True\n",
        "\n",
        "# if load_model is True:\n",
        "#     model.load_state_dict(torch.load(save_path + 'Assignment2_model_exp2_2.pkl'))\n",
        "#     print('Trained Model Loaded')"
      ],
      "execution_count": 75,
      "outputs": []
    },
    {
      "cell_type": "code",
      "metadata": {
        "id": "CboI6mdhPirg"
      },
      "source": [
        "# print(model)"
      ],
      "execution_count": 76,
      "outputs": []
    },
    {
      "cell_type": "markdown",
      "metadata": {
        "id": "tJ8Qd54Oswn4"
      },
      "source": [
        "#**Dataset 2**"
      ]
    },
    {
      "cell_type": "code",
      "metadata": {
        "id": "hZAOYZG4SuL9",
        "colab": {
          "base_uri": "https://localhost:8080/"
        },
        "outputId": "106a2a03-fbf5-478d-ef59-1dbea1ce619f"
      },
      "source": [
        "dataset2_train = pd.read_csv(second_dataset_directory+'verification_train.csv')\n",
        "dataset2_test = pd.read_csv(second_dataset_directory+'verification_test.csv')\n",
        "print(dataset2_train)"
      ],
      "execution_count": 77,
      "outputs": [
        {
          "output_type": "stream",
          "name": "stdout",
          "text": [
            "       label  pixel1  pixel2  pixel3  ...  pixel781  pixel782  pixel783  pixel784\n",
            "0          2       0       0       0  ...         0         0         0         0\n",
            "1          9       0       0       0  ...         0         0         0         0\n",
            "2          6       0       0       0  ...         0         0         0         0\n",
            "3          0       0       0       0  ...         0         0         0         0\n",
            "4          3       0       0       0  ...         0         0         0         0\n",
            "...      ...     ...     ...     ...  ...       ...       ...       ...       ...\n",
            "59995      9       0       0       0  ...         0         0         0         0\n",
            "59996      1       0       0       0  ...         0         0         0         0\n",
            "59997      8       0       0       0  ...         0         0         0         0\n",
            "59998      8       0       0       0  ...         0         0         0         0\n",
            "59999      7       0       0       0  ...         0         0         0         0\n",
            "\n",
            "[60000 rows x 785 columns]\n"
          ]
        }
      ]
    },
    {
      "cell_type": "code",
      "metadata": {
        "id": "skhercC0eTBy",
        "colab": {
          "base_uri": "https://localhost:8080/"
        },
        "outputId": "1309b957-4674-4703-b744-75ee7309ae60"
      },
      "source": [
        "print(dataset2_test)"
      ],
      "execution_count": 78,
      "outputs": [
        {
          "output_type": "stream",
          "name": "stdout",
          "text": [
            "      label  pixel1  pixel2  pixel3  ...  pixel781  pixel782  pixel783  pixel784\n",
            "0         0       0       0       0  ...         0         0         0         0\n",
            "1         1       0       0       0  ...         0         0         0         0\n",
            "2         2       0       0       0  ...        31         0         0         0\n",
            "3         2       0       0       0  ...       222        56         0         0\n",
            "4         3       0       0       0  ...         0         0         0         0\n",
            "...     ...     ...     ...     ...  ...       ...       ...       ...       ...\n",
            "9995      0       0       0       0  ...         1         0         0         0\n",
            "9996      6       0       0       0  ...        28         0         0         0\n",
            "9997      8       0       0       0  ...        42         0         1         0\n",
            "9998      8       0       1       3  ...         0         0         0         0\n",
            "9999      1       0       0       0  ...         0         0         0         0\n",
            "\n",
            "[10000 rows x 785 columns]\n"
          ]
        }
      ]
    },
    {
      "cell_type": "code",
      "metadata": {
        "id": "iZ1CrbNqqK9j"
      },
      "source": [
        "dataset2_train_x = dataset2_train.iloc[:,1:785]\n",
        "dataset2_train_y = dataset2_train.iloc[:,0]\n",
        "\n",
        "dataset2_test_x = dataset2_test.iloc[:,1:785]\n",
        "dataset2_test_y = dataset2_test.iloc[:,0]"
      ],
      "execution_count": 79,
      "outputs": []
    },
    {
      "cell_type": "code",
      "metadata": {
        "id": "S-vyd6igah1o",
        "colab": {
          "base_uri": "https://localhost:8080/"
        },
        "outputId": "5efa96e9-fffb-4fcd-ae4b-e6d51ee7768d"
      },
      "source": [
        "print(dataset2_train_y)"
      ],
      "execution_count": 80,
      "outputs": [
        {
          "output_type": "stream",
          "name": "stdout",
          "text": [
            "0        2\n",
            "1        9\n",
            "2        6\n",
            "3        0\n",
            "4        3\n",
            "        ..\n",
            "59995    9\n",
            "59996    1\n",
            "59997    8\n",
            "59998    8\n",
            "59999    7\n",
            "Name: label, Length: 60000, dtype: int64\n"
          ]
        }
      ]
    },
    {
      "cell_type": "code",
      "metadata": {
        "id": "7rIam7-OahSr"
      },
      "source": [
        "dataset2_train_x = np.asarray(dataset2_train_x)\n",
        "dataset2_test_x = np.asarray(dataset2_test_x)"
      ],
      "execution_count": 81,
      "outputs": []
    },
    {
      "cell_type": "code",
      "metadata": {
        "id": "f--yaRxx1jF8"
      },
      "source": [
        "width = 180\n",
        "height = 180\n",
        "dim = (width, height)\n",
        "ind1 = 0\n",
        "ind2 = 0\n",
        "Final_dataset2_train = [] \n",
        "Final_dataset2_test = []\n",
        "\n",
        "for i in dataset2_train_x:\n",
        "  temp = i.reshape((28,28)).astype('float32')\n",
        "  temp = cv2.resize(temp, dim, interpolation = cv2.INTER_AREA)\n",
        "  temp = cv2.normalize(temp, None, alpha=0, beta=1, norm_type=cv2.NORM_MINMAX, dtype=cv2.CV_32F)\n",
        "  temp = torch.tensor(temp)\n",
        "  label = dataset2_train_y[ind1]\n",
        "  temp = (temp,label)\n",
        "  Final_dataset2_train.append(temp)\n",
        "  ind1 = ind1 + 1\n",
        "\n",
        "for i in dataset2_test_x:\n",
        "  temp = i.reshape((28,28)).astype('float32')\n",
        "  temp = cv2.resize(temp, dim, interpolation = cv2.INTER_AREA)\n",
        "  temp = cv2.normalize(temp, None, alpha=0, beta=1, norm_type=cv2.NORM_MINMAX, dtype=cv2.CV_32F)\n",
        "  temp = torch.tensor(temp)\n",
        "  label = dataset2_test_y[ind2]\n",
        "  temp = (temp,label)\n",
        "  Final_dataset2_test.append(temp)\n",
        "  ind2 = ind2 + 1"
      ],
      "execution_count": 82,
      "outputs": []
    },
    {
      "cell_type": "code",
      "metadata": {
        "colab": {
          "base_uri": "https://localhost:8080/"
        },
        "id": "RsZNkshvtD3b",
        "outputId": "db47d740-a367-473a-8811-1674159bce1f"
      },
      "source": [
        "print(Final_dataset2_train[0])"
      ],
      "execution_count": 83,
      "outputs": [
        {
          "output_type": "stream",
          "name": "stdout",
          "text": [
            "(tensor([[0., 0., 0.,  ..., 0., 0., 0.],\n",
            "        [0., 0., 0.,  ..., 0., 0., 0.],\n",
            "        [0., 0., 0.,  ..., 0., 0., 0.],\n",
            "        ...,\n",
            "        [0., 0., 0.,  ..., 0., 0., 0.],\n",
            "        [0., 0., 0.,  ..., 0., 0., 0.],\n",
            "        [0., 0., 0.,  ..., 0., 0., 0.]]), 2)\n"
          ]
        }
      ]
    },
    {
      "cell_type": "code",
      "metadata": {
        "colab": {
          "base_uri": "https://localhost:8080/"
        },
        "id": "ORV-s7GrtEb1",
        "outputId": "7d16826f-8ba8-430f-8e51-9c1b47696330"
      },
      "source": [
        "print(Final_dataset2_test[0])"
      ],
      "execution_count": 84,
      "outputs": [
        {
          "output_type": "stream",
          "name": "stdout",
          "text": [
            "(tensor([[0., 0., 0.,  ..., 0., 0., 0.],\n",
            "        [0., 0., 0.,  ..., 0., 0., 0.],\n",
            "        [0., 0., 0.,  ..., 0., 0., 0.],\n",
            "        ...,\n",
            "        [0., 0., 0.,  ..., 0., 0., 0.],\n",
            "        [0., 0., 0.,  ..., 0., 0., 0.],\n",
            "        [0., 0., 0.,  ..., 0., 0., 0.]]), 0)\n"
          ]
        }
      ]
    },
    {
      "cell_type": "code",
      "metadata": {
        "id": "AW4eIymRtKed"
      },
      "source": [
        "batch_size = 50\n",
        "train_loader = torch.utils.data.DataLoader(dataset=Final_dataset2_train, \n",
        "                                           batch_size=batch_size, \n",
        "                                           shuffle=True)  \n",
        "\n",
        "test_loader = torch.utils.data.DataLoader(dataset=Final_dataset2_test, \n",
        "                                          batch_size=batch_size, \n",
        "                                          shuffle=False)  "
      ],
      "execution_count": 85,
      "outputs": []
    },
    {
      "cell_type": "code",
      "metadata": {
        "id": "Hmu8kk3otOKO"
      },
      "source": [
        "num_epochs = num_iters / (len(Final_dataset2_train) / batch_size)\n",
        "num_epochs = int(num_epochs)"
      ],
      "execution_count": 86,
      "outputs": []
    },
    {
      "cell_type": "code",
      "metadata": {
        "colab": {
          "base_uri": "https://localhost:8080/"
        },
        "id": "V5EWuHQYtSwG",
        "outputId": "3d032874-292a-485b-f903-dd08bc389da8"
      },
      "source": [
        "'''\n",
        "INSTANTIATE MODEL CLASS\n",
        "'''\n",
        "model = DeepNeuralNetworkModel(input_size = input_dim,\n",
        "                           num_classes = output_dim,\n",
        "                           num_hidden = num_hidden)\n",
        "# To enable GPU\n",
        "model.to(device)"
      ],
      "execution_count": 87,
      "outputs": [
        {
          "output_type": "execute_result",
          "data": {
            "text/plain": [
              "DeepNeuralNetworkModel(\n",
              "  (linear_1): Linear(in_features=32400, out_features=1000, bias=True)\n",
              "  (relu_1): ReLU()\n",
              "  (linear_2): Linear(in_features=1000, out_features=1000, bias=True)\n",
              "  (relu_2): ReLU()\n",
              "  (linear_3): Linear(in_features=1000, out_features=1000, bias=True)\n",
              "  (relu_3): ReLU()\n",
              "  (linear_4): Linear(in_features=1000, out_features=1000, bias=True)\n",
              "  (relu_4): ReLU()\n",
              "  (linear_5): Linear(in_features=1000, out_features=1000, bias=True)\n",
              "  (relu_5): ReLU()\n",
              "  (linear_6): Linear(in_features=1000, out_features=1000, bias=True)\n",
              "  (relu_6): ReLU()\n",
              "  (linear_7): Linear(in_features=1000, out_features=1000, bias=True)\n",
              "  (relu_7): ReLU()\n",
              "  (linear_8): Linear(in_features=1000, out_features=1000, bias=True)\n",
              "  (relu_8): ReLU()\n",
              "  (linear_9): Linear(in_features=1000, out_features=1000, bias=True)\n",
              "  (relu_9): ReLU()\n",
              "  (linear_10): Linear(in_features=1000, out_features=1000, bias=True)\n",
              "  (relu_10): ReLU()\n",
              "  (linear_11): Linear(in_features=1000, out_features=1000, bias=True)\n",
              "  (relu_11): ReLU()\n",
              "  (linear_12): Linear(in_features=1000, out_features=1000, bias=True)\n",
              "  (relu_12): ReLU()\n",
              "  (linear_13): Linear(in_features=1000, out_features=1000, bias=True)\n",
              "  (relu_13): ReLU()\n",
              "  (linear_14): Linear(in_features=1000, out_features=1000, bias=True)\n",
              "  (relu_14): ReLU()\n",
              "  (linear_15): Linear(in_features=1000, out_features=1000, bias=True)\n",
              "  (relu_15): ReLU()\n",
              "  (linear_16): Linear(in_features=1000, out_features=1000, bias=True)\n",
              "  (relu_16): ReLU()\n",
              "  (linear_17): Linear(in_features=1000, out_features=1000, bias=True)\n",
              "  (relu_17): ReLU()\n",
              "  (linear_18): Linear(in_features=1000, out_features=1000, bias=True)\n",
              "  (relu_18): ReLU()\n",
              "  (linear_19): Linear(in_features=1000, out_features=1000, bias=True)\n",
              "  (relu_19): ReLU()\n",
              "  (linear_20): Linear(in_features=1000, out_features=1000, bias=True)\n",
              "  (relu_20): ReLU()\n",
              "  (linear_21): Linear(in_features=1000, out_features=1000, bias=True)\n",
              "  (relu_21): ReLU()\n",
              "  (linear_22): Linear(in_features=1000, out_features=1000, bias=True)\n",
              "  (relu_22): ReLU()\n",
              "  (linear_23): Linear(in_features=1000, out_features=1000, bias=True)\n",
              "  (relu_23): ReLU()\n",
              "  (linear_24): Linear(in_features=1000, out_features=1000, bias=True)\n",
              "  (relu_24): ReLU()\n",
              "  (linear_25): Linear(in_features=1000, out_features=1000, bias=True)\n",
              "  (relu_25): ReLU()\n",
              "  (linear_26): Linear(in_features=1000, out_features=1000, bias=True)\n",
              "  (relu_26): ReLU()\n",
              "  (linear_27): Linear(in_features=1000, out_features=1000, bias=True)\n",
              "  (relu_27): ReLU()\n",
              "  (linear_28): Linear(in_features=1000, out_features=1000, bias=True)\n",
              "  (relu_28): ReLU()\n",
              "  (linear_29): Linear(in_features=1000, out_features=1000, bias=True)\n",
              "  (relu_29): ReLU()\n",
              "  (linear_30): Linear(in_features=1000, out_features=1000, bias=True)\n",
              "  (relu_30): ReLU()\n",
              "  (linear_out): Linear(in_features=1000, out_features=10, bias=True)\n",
              ")"
            ]
          },
          "metadata": {},
          "execution_count": 87
        }
      ]
    },
    {
      "cell_type": "code",
      "metadata": {
        "id": "F3RpyM_gtT01"
      },
      "source": [
        "criterion = nn.CrossEntropyLoss()\n",
        "optimizer = torch.optim.SGD(model.parameters(), lr=learning_rate)"
      ],
      "execution_count": 88,
      "outputs": []
    },
    {
      "cell_type": "code",
      "metadata": {
        "colab": {
          "base_uri": "https://localhost:8080/"
        },
        "id": "dMjJTLtTtWNO",
        "outputId": "228c2ecc-e054-49ce-feed-5ec228882583"
      },
      "source": [
        "iteration_loss = []\n",
        "iter = 0\n",
        "for epoch in range(num_epochs):\n",
        "    for i, (images, labels) in enumerate(train_loader):\n",
        "\n",
        "        images = images.view(-1, 180*180).to(device)\n",
        "        labels = labels.to(device)\n",
        "\n",
        "        # Clear gradients w.r.t. parameters\n",
        "        optimizer.zero_grad()\n",
        "\n",
        "        # Forward pass to get output/logits\n",
        "        outputs = model(images) \n",
        "\n",
        "        # Calculate Loss: softmax --> cross entropy loss\n",
        "        loss = criterion(outputs, labels)\n",
        "\n",
        "        # Getting gradients w.r.t. parameters\n",
        "        loss.backward()\n",
        "\n",
        "        # Updating parameters\n",
        "        optimizer.step()\n",
        "\n",
        "        iter += 1\n",
        "\n",
        "        if iter % 500 == 0:\n",
        "            # Calculate Accuracy         \n",
        "            correct = 0\n",
        "            total = 0\n",
        "            # Iterate through test dataset\n",
        "            for images, labels in test_loader:\n",
        "               \n",
        "                images = images.view(-1, 180*180).to(device)\n",
        "\n",
        "                # Forward pass only to get logits/output\n",
        "                outputs = model(images)\n",
        "\n",
        "                # Get predictions from the maximum value\n",
        "                _, predicted = torch.max(outputs, 1)\n",
        "\n",
        "                # Total number of labels\n",
        "                total += labels.size(0)\n",
        "\n",
        "\n",
        "                # Total correct predictions\n",
        "                if torch.cuda.is_available():\n",
        "                    correct += (predicted.cpu() == labels.cpu()).sum() \n",
        "                else:\n",
        "                    correct += (predicted == labels).sum()\n",
        "\n",
        "            accuracy = 100 * correct.item() / total\n",
        "\n",
        "            # Print Loss\n",
        "            iteration_loss.append(loss.item())\n",
        "            print('Iteration: {}. Loss: {}. Accuracy: {}'.format(iter, loss.item(), accuracy))"
      ],
      "execution_count": 89,
      "outputs": [
        {
          "output_type": "stream",
          "name": "stdout",
          "text": [
            "Iteration: 500. Loss: 2.2990550994873047. Accuracy: 10.0\n",
            "Iteration: 1000. Loss: 2.300086736679077. Accuracy: 10.0\n",
            "Iteration: 1500. Loss: 2.303717851638794. Accuracy: 10.0\n",
            "Iteration: 2000. Loss: 2.3008220195770264. Accuracy: 10.0\n",
            "Iteration: 2500. Loss: 2.3016746044158936. Accuracy: 10.0\n",
            "Iteration: 3000. Loss: 2.2990386486053467. Accuracy: 10.0\n",
            "Iteration: 3500. Loss: 2.3091318607330322. Accuracy: 10.0\n",
            "Iteration: 4000. Loss: 2.302920341491699. Accuracy: 10.0\n",
            "Iteration: 4500. Loss: 2.303499937057495. Accuracy: 10.0\n",
            "Iteration: 5000. Loss: 2.3045663833618164. Accuracy: 10.0\n",
            "Iteration: 5500. Loss: 2.3014044761657715. Accuracy: 10.0\n",
            "Iteration: 6000. Loss: 2.299306631088257. Accuracy: 10.0\n",
            "Iteration: 6500. Loss: 2.3020153045654297. Accuracy: 10.0\n",
            "Iteration: 7000. Loss: 2.3104844093322754. Accuracy: 10.0\n",
            "Iteration: 7500. Loss: 2.3041820526123047. Accuracy: 10.0\n",
            "Iteration: 8000. Loss: 2.297499895095825. Accuracy: 10.0\n",
            "Iteration: 8500. Loss: 2.300602674484253. Accuracy: 10.0\n",
            "Iteration: 9000. Loss: 2.3049476146698. Accuracy: 10.0\n",
            "Iteration: 9500. Loss: 2.296436309814453. Accuracy: 10.0\n",
            "Iteration: 10000. Loss: 2.3042428493499756. Accuracy: 10.0\n",
            "Iteration: 10500. Loss: 2.301717758178711. Accuracy: 10.0\n",
            "Iteration: 11000. Loss: 2.307811975479126. Accuracy: 10.0\n",
            "Iteration: 11500. Loss: 2.3044652938842773. Accuracy: 10.0\n",
            "Iteration: 12000. Loss: 2.304058790206909. Accuracy: 10.0\n",
            "Iteration: 12500. Loss: 2.2976179122924805. Accuracy: 10.0\n",
            "Iteration: 13000. Loss: 2.2973499298095703. Accuracy: 10.0\n",
            "Iteration: 13500. Loss: 2.301208734512329. Accuracy: 10.0\n",
            "Iteration: 14000. Loss: 2.303426742553711. Accuracy: 10.0\n",
            "Iteration: 14500. Loss: 2.2981574535369873. Accuracy: 10.0\n",
            "Iteration: 15000. Loss: 2.3075809478759766. Accuracy: 10.0\n",
            "Iteration: 15500. Loss: 2.3042376041412354. Accuracy: 10.0\n",
            "Iteration: 16000. Loss: 2.299281358718872. Accuracy: 10.0\n",
            "Iteration: 16500. Loss: 2.303481340408325. Accuracy: 10.0\n",
            "Iteration: 17000. Loss: 2.3064966201782227. Accuracy: 10.0\n",
            "Iteration: 17500. Loss: 2.3121368885040283. Accuracy: 10.0\n",
            "Iteration: 18000. Loss: 2.3048582077026367. Accuracy: 10.0\n",
            "Iteration: 18500. Loss: 2.304704189300537. Accuracy: 10.0\n",
            "Iteration: 19000. Loss: 2.298877000808716. Accuracy: 10.0\n",
            "Iteration: 19500. Loss: 2.308361053466797. Accuracy: 10.0\n",
            "Iteration: 20000. Loss: 2.306358814239502. Accuracy: 10.0\n",
            "Iteration: 20500. Loss: 2.3130452632904053. Accuracy: 10.0\n",
            "Iteration: 21000. Loss: 2.3067612648010254. Accuracy: 10.0\n",
            "Iteration: 21500. Loss: 2.299996852874756. Accuracy: 10.0\n",
            "Iteration: 22000. Loss: 2.3065547943115234. Accuracy: 10.0\n",
            "Iteration: 22500. Loss: 2.3020520210266113. Accuracy: 10.0\n",
            "Iteration: 23000. Loss: 2.304643154144287. Accuracy: 10.0\n",
            "Iteration: 23500. Loss: 2.3027029037475586. Accuracy: 10.0\n",
            "Iteration: 24000. Loss: 2.301863193511963. Accuracy: 10.0\n",
            "Iteration: 24500. Loss: 2.299692153930664. Accuracy: 10.0\n",
            "Iteration: 25000. Loss: 2.3012568950653076. Accuracy: 10.0\n",
            "Iteration: 25500. Loss: 2.307743787765503. Accuracy: 10.0\n",
            "Iteration: 26000. Loss: 2.3040666580200195. Accuracy: 10.0\n",
            "Iteration: 26500. Loss: 2.2985901832580566. Accuracy: 10.0\n",
            "Iteration: 27000. Loss: 2.299044370651245. Accuracy: 10.0\n",
            "Iteration: 27500. Loss: 2.3041892051696777. Accuracy: 10.0\n",
            "Iteration: 28000. Loss: 2.302753448486328. Accuracy: 10.0\n",
            "Iteration: 28500. Loss: 2.3043627738952637. Accuracy: 10.0\n",
            "Iteration: 29000. Loss: 2.3045175075531006. Accuracy: 10.0\n",
            "Iteration: 29500. Loss: 2.3042469024658203. Accuracy: 10.0\n",
            "Iteration: 30000. Loss: 2.300736904144287. Accuracy: 10.0\n"
          ]
        }
      ]
    },
    {
      "cell_type": "code",
      "metadata": {
        "colab": {
          "base_uri": "https://localhost:8080/",
          "height": 316
        },
        "id": "vqpxiILBtile",
        "outputId": "5c80d0f1-b3e5-4544-b1db-e4297c7d0149"
      },
      "source": [
        "import matplotlib\n",
        "import matplotlib.pyplot as plt\n",
        "\n",
        "print (iteration_loss)\n",
        "plt.plot(iteration_loss)\n",
        "plt.ylabel('Cross Entropy Loss')\n",
        "plt.xlabel('Iteration (in every 500)')\n",
        "plt.show()"
      ],
      "execution_count": 90,
      "outputs": [
        {
          "output_type": "stream",
          "name": "stdout",
          "text": [
            "[2.2990550994873047, 2.300086736679077, 2.303717851638794, 2.3008220195770264, 2.3016746044158936, 2.2990386486053467, 2.3091318607330322, 2.302920341491699, 2.303499937057495, 2.3045663833618164, 2.3014044761657715, 2.299306631088257, 2.3020153045654297, 2.3104844093322754, 2.3041820526123047, 2.297499895095825, 2.300602674484253, 2.3049476146698, 2.296436309814453, 2.3042428493499756, 2.301717758178711, 2.307811975479126, 2.3044652938842773, 2.304058790206909, 2.2976179122924805, 2.2973499298095703, 2.301208734512329, 2.303426742553711, 2.2981574535369873, 2.3075809478759766, 2.3042376041412354, 2.299281358718872, 2.303481340408325, 2.3064966201782227, 2.3121368885040283, 2.3048582077026367, 2.304704189300537, 2.298877000808716, 2.308361053466797, 2.306358814239502, 2.3130452632904053, 2.3067612648010254, 2.299996852874756, 2.3065547943115234, 2.3020520210266113, 2.304643154144287, 2.3027029037475586, 2.301863193511963, 2.299692153930664, 2.3012568950653076, 2.307743787765503, 2.3040666580200195, 2.2985901832580566, 2.299044370651245, 2.3041892051696777, 2.302753448486328, 2.3043627738952637, 2.3045175075531006, 2.3042469024658203, 2.300736904144287]\n"
          ]
        },
        {
          "output_type": "display_data",
          "data": {
            "image/png": "[encoded data removed]",
            "text/plain": [
              "<Figure size 432x288 with 1 Axes>"
            ]
          },
          "metadata": {
            "needs_background": "light"
          }
        }
      ]
    },
    {
      "cell_type": "code",
      "metadata": {
        "id": "4bpaj_14tjSF"
      },
      "source": [
        ""
      ],
      "execution_count": 90,
      "outputs": []
    }
  ]
}