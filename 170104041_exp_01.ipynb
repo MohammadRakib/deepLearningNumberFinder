{
  "nbformat": 4,
  "nbformat_minor": 0,
  "metadata": {
    "colab": {
      "name": "170104041_exp_01.ipynb",
      "provenance": [],
      "collapsed_sections": [
        "v1qwTfCVe3Rd",
        "lcHNm40QfOb0"
      ]
    },
    "kernelspec": {
      "name": "python3",
      "display_name": "Python 3"
    },
    "language_info": {
      "name": "python"
    },
    "accelerator": "GPU"
  },
  "cells": [
    {
      "cell_type": "code",
      "metadata": {
        "id": "M3XDZhDl1uHB"
      },
      "source": [
        "import torch\n",
        "import torch.nn as nn\n",
        "import torchvision.transforms as transforms"
      ],
      "execution_count": null,
      "outputs": []
    },
    {
      "cell_type": "code",
      "metadata": {
        "colab": {
          "base_uri": "https://localhost:8080/"
        },
        "id": "3SsQ0TNZPRdD",
        "outputId": "14fc02af-c6b4-4bef-d503-3e74483483ab"
      },
      "source": [
        "from google.colab import drive\n",
        "drive.mount('/content/drive')\n",
        "main_directory = '/content/drive/My Drive/soft coding lab/assignment 2/training-c/'\n",
        "csv_directory = '/content/drive/My Drive/soft coding lab/assignment 2/training-c.csv'\n",
        "second_dataset_directory = '/content/drive/My Drive/soft coding lab/assignment 2/Dataset_2/'"
      ],
      "execution_count": null,
      "outputs": [
        {
          "output_type": "stream",
          "name": "stdout",
          "text": [
            "Mounted at /content/drive\n"
          ]
        }
      ]
    },
    {
      "cell_type": "code",
      "metadata": {
        "id": "qORxk9MfQuWa"
      },
      "source": [
        "from matplotlib import image\n",
        "from PIL import Image\n",
        "from matplotlib import pyplot\n",
        "import numpy as np\n",
        "import pandas as pd\n",
        "import os\n",
        "from torch.utils.data import Dataset\n",
        "from torchvision.transforms import ToTensor\n",
        "import cv2"
      ],
      "execution_count": null,
      "outputs": []
    },
    {
      "cell_type": "markdown",
      "metadata": {
        "id": "v1qwTfCVe3Rd"
      },
      "source": [
        "#**Dataset 1**"
      ]
    },
    {
      "cell_type": "code",
      "metadata": {
        "colab": {
          "base_uri": "https://localhost:8080/"
        },
        "id": "E4Vqps40agM1",
        "outputId": "d75f5832-fcf0-4464-d5e9-430a7adbe29d"
      },
      "source": [
        "# df = pd.read_csv(csv_directory)\n",
        "# print(df)"
      ],
      "execution_count": null,
      "outputs": [
        {
          "output_type": "stream",
          "text": [
            "         filename           original filename  ...  contributing team  database name\n",
            "0      c00000.png  Scan_280_digit_6_num_7.png  ...   Buet_Backpropers     training-c\n",
            "1      c00001.png   Scan_29_digit_1_num_1.png  ...   Buet_Backpropers     training-c\n",
            "2      c00002.png  Scan_131_digit_3_num_1.png  ...   Buet_Backpropers     training-c\n",
            "3      c00003.png  Scan_160_digit_2_num_2.png  ...   Buet_Backpropers     training-c\n",
            "4      c00004.png  Scan_202_digit_7_num_0.png  ...   Buet_Backpropers     training-c\n",
            "...           ...                         ...  ...                ...            ...\n",
            "24293  c24293.png  Scan_167_digit_3_num_4.png  ...   Buet_Backpropers     training-c\n",
            "24294  c24294.png  Scan_174_digit_2_num_8.png  ...   Buet_Backpropers     training-c\n",
            "24295  c24295.png  Scan_152_digit_7_num_4.png  ...   Buet_Backpropers     training-c\n",
            "24296  c24296.png  Scan_123_digit_2_num_2.png  ...   Buet_Backpropers     training-c\n",
            "24297  c24297.png    Scan_2_digit_7_num_6.png  ...   Buet_Backpropers     training-c\n",
            "\n",
            "[24298 rows x 7 columns]\n"
          ],
          "name": "stdout"
        }
      ]
    },
    {
      "cell_type": "code",
      "metadata": {
        "colab": {
          "base_uri": "https://localhost:8080/"
        },
        "id": "1jjgRMVkbdur",
        "outputId": "90220525-9917-48e1-b31a-5c94414b18cb"
      },
      "source": [
        "# for x in df.columns:\n",
        "#     if x != 'filename' and x != 'digit':\n",
        "#       df.drop(x, axis=1, inplace=True)\n",
        "      \n",
        "# print(df)"
      ],
      "execution_count": null,
      "outputs": [
        {
          "output_type": "stream",
          "text": [
            "         filename  digit\n",
            "0      c00000.png      6\n",
            "1      c00001.png      1\n",
            "2      c00002.png      3\n",
            "3      c00003.png      2\n",
            "4      c00004.png      7\n",
            "...           ...    ...\n",
            "24293  c24293.png      3\n",
            "24294  c24294.png      2\n",
            "24295  c24295.png      7\n",
            "24296  c24296.png      2\n",
            "24297  c24297.png      7\n",
            "\n",
            "[24298 rows x 2 columns]\n"
          ],
          "name": "stdout"
        }
      ]
    },
    {
      "cell_type": "code",
      "metadata": {
        "id": "TKQsZ9exwlif"
      },
      "source": [
        "# class CustomImageDataset(Dataset):\n",
        "#     def __init__(self, annotations_file, img_dir, transform=None, target_transform=None):\n",
        "#         self.img_labels = annotations_file\n",
        "#         self.img_dir = img_dir\n",
        "#         self.transform = transform\n",
        "#         self.target_transform = target_transform\n",
        "\n",
        "#     def __len__(self):\n",
        "#         return len(self.img_labels)\n",
        "\n",
        "#     def __getitem__(self, idx):\n",
        "#         img_path = os.path.join(self.img_dir, self.img_labels.iloc[idx, 0])\n",
        "#         image = cv2.imread(img_path,-1)\n",
        "#         label = self.img_labels.iloc[idx, 1]\n",
        "#         if self.transform:\n",
        "#             image = self.transform(image)\n",
        "#         if self.target_transform:\n",
        "#             label = self.target_transform(label)\n",
        "#         return image, label"
      ],
      "execution_count": null,
      "outputs": []
    },
    {
      "cell_type": "code",
      "metadata": {
        "id": "lbV3IX3GxeMR"
      },
      "source": [
        "# Final_Dataset = CustomImageDataset(annotations_file=df, img_dir= main_directory, transform= ToTensor())"
      ],
      "execution_count": null,
      "outputs": []
    },
    {
      "cell_type": "code",
      "metadata": {
        "colab": {
          "base_uri": "https://localhost:8080/"
        },
        "id": "oAUwePcezKNf",
        "outputId": "a1edda75-9a30-45d8-8354-7dc4fbe3dc39"
      },
      "source": [
        "# print(Final_Dataset[0][0].size())\n",
        "# print(Final_Dataset[0])"
      ],
      "execution_count": null,
      "outputs": [
        {
          "output_type": "stream",
          "text": [
            "torch.Size([1, 180, 180])\n",
            "(tensor([[[0.9804, 0.9961, 1.0000,  ..., 0.9804, 0.9804, 0.9882],\n",
            "         [0.9882, 1.0000, 0.9922,  ..., 0.9922, 0.9882, 0.9882],\n",
            "         [0.9804, 0.9961, 0.9922,  ..., 0.9961, 0.9961, 0.9882],\n",
            "         ...,\n",
            "         [0.9882, 0.9922, 0.9961,  ..., 1.0000, 1.0000, 1.0000],\n",
            "         [0.9765, 0.9882, 0.9882,  ..., 1.0000, 1.0000, 1.0000],\n",
            "         [0.9804, 0.9765, 0.9765,  ..., 0.9961, 0.9922, 0.9882]]]), 6)\n"
          ],
          "name": "stdout"
        }
      ]
    },
    {
      "cell_type": "code",
      "metadata": {
        "colab": {
          "base_uri": "https://localhost:8080/"
        },
        "id": "TcVUkJVO_dMm",
        "outputId": "551afe15-9e2a-40de-fc95-a9d3ae67adde"
      },
      "source": [
        "# print(len(Final_Dataset))"
      ],
      "execution_count": null,
      "outputs": [
        {
          "output_type": "stream",
          "text": [
            "24298\n"
          ],
          "name": "stdout"
        }
      ]
    },
    {
      "cell_type": "code",
      "metadata": {
        "colab": {
          "base_uri": "https://localhost:8080/"
        },
        "id": "npXcVjLWAPxu",
        "outputId": "17119b73-6628-4755-88cd-aec3dc44408b"
      },
      "source": [
        "# train_set,test_set = torch.utils.data.random_split(Final_Dataset,[19438,4860])\n",
        "# print(len(train_set))\n",
        "# print(len(test_set))"
      ],
      "execution_count": null,
      "outputs": [
        {
          "output_type": "stream",
          "text": [
            "19438\n",
            "4860\n"
          ],
          "name": "stdout"
        }
      ]
    },
    {
      "cell_type": "code",
      "metadata": {
        "id": "oU6QOnXvCQ7V"
      },
      "source": [
        "# batch_size = 20\n",
        "# train_loader = torch.utils.data.DataLoader(dataset=train_set, \n",
        "#                                            batch_size=batch_size, \n",
        "#                                            shuffle=True)  \n",
        "\n",
        "# test_loader = torch.utils.data.DataLoader(dataset=test_set, \n",
        "#                                           batch_size=batch_size, \n",
        "#                                           shuffle=False)  "
      ],
      "execution_count": null,
      "outputs": []
    },
    {
      "cell_type": "code",
      "metadata": {
        "id": "goWHu8k9KbdU"
      },
      "source": [
        "num_iters = 20000\n",
        "input_dim = 180*180\n",
        "num_hidden = 200\n",
        "output_dim = 10\n",
        "learning_rate = 0.01\n",
        "\n",
        "# Device\n",
        "device = torch.device(\"cuda:0\" if torch.cuda.is_available() else \"cpu\")"
      ],
      "execution_count": null,
      "outputs": []
    },
    {
      "cell_type": "code",
      "metadata": {
        "id": "4UnZXUiCKYOt"
      },
      "source": [
        "class DeepNeuralNetworkModel(nn.Module):\n",
        "    def __init__(self, input_size, num_classes, num_hidden):\n",
        "        super().__init__()\n",
        "        ### 1st hidden layer: 784 --> 200\n",
        "        self.linear_1 = nn.Linear(input_size, num_hidden)\n",
        "        ### Non-linearity in 1st hidden layer\n",
        "        self.relu_1 = nn.ReLU()\n",
        "\n",
        "        ### 2nd hidden layer: 200 --> 200\n",
        "        self.linear_2 = nn.Linear(num_hidden, num_hidden)\n",
        "        ### Non-linearity in 2nd hidden layer\n",
        "        self.relu_2 = nn.ReLU()\n",
        "\n",
        "        ### 3rd hidden layer: 200 --> 200\n",
        "        self.linear_3 = nn.Linear(num_hidden, num_hidden)\n",
        "        ### Non-linearity in 3rd hidden layer\n",
        "        self.relu_3 = nn.ReLU()\n",
        "\n",
        "        ### 4th hidden layer: 200 --> 200\n",
        "        self.linear_4 = nn.Linear(num_hidden, num_hidden)\n",
        "        ### Non-linearity in 4th hidden layer\n",
        "        self.relu_4 = nn.ReLU()\n",
        "\n",
        "        ### 5th hidden layer: 200 --> 200\n",
        "        self.linear_5 = nn.Linear(num_hidden, num_hidden)\n",
        "        ### Non-linearity in 5th hidden layer\n",
        "        self.relu_5 = nn.ReLU()\n",
        "\n",
        "        ### 6th hidden layer: 200 --> 200\n",
        "        self.linear_6 = nn.Linear(num_hidden, num_hidden)\n",
        "        ### Non-linearity in 6th hidden layer\n",
        "        self.relu_6 = nn.ReLU()\n",
        "\n",
        "        ### Output layer: 200 --> 10\n",
        "        self.linear_out = nn.Linear(num_hidden, num_classes)\n",
        "\n",
        "    def forward(self, x):\n",
        "        ### 1st hidden layer\n",
        "        out  = self.linear_1(x)\n",
        "        ### Non-linearity in 1st hidden layer\n",
        "        out = self.relu_1(out)\n",
        "        \n",
        "        ### 2nd hidden layer\n",
        "        out  = self.linear_2(out)\n",
        "        ### Non-linearity in 2nd hidden layer\n",
        "        out = self.relu_2(out)\n",
        "\n",
        "        ### 3rd hidden layer\n",
        "        out  = self.linear_3(out)\n",
        "        ### Non-linearity in 3rd hidden layer\n",
        "        out = self.relu_3(out)\n",
        "\n",
        "        ### 4th hidden layer\n",
        "        out  = self.linear_4(out)\n",
        "        ### Non-linearity in 4th hidden layer\n",
        "        out = self.relu_4(out)\n",
        "\n",
        "        ### 5th hidden layer\n",
        "        out  = self.linear_5(out)\n",
        "        ### Non-linearity in 5th hidden layer\n",
        "        out = self.relu_5(out)\n",
        "\n",
        "        ### 6th hidden layer\n",
        "        out  = self.linear_6(out)\n",
        "        ### Non-linearity in 6th hidden layer\n",
        "        out = self.relu_6(out)\n",
        "        \n",
        "        # Linear layer (output)\n",
        "        probas  = self.linear_out(out)\n",
        "        return probas\n"
      ],
      "execution_count": null,
      "outputs": []
    },
    {
      "cell_type": "code",
      "metadata": {
        "id": "rOzpz14MOrGd"
      },
      "source": [
        "# num_epochs = num_iters / (len(train_set) / batch_size)\n",
        "# num_epochs = int(num_epochs)"
      ],
      "execution_count": null,
      "outputs": []
    },
    {
      "cell_type": "code",
      "metadata": {
        "colab": {
          "base_uri": "https://localhost:8080/"
        },
        "id": "HZy9uUNjB835",
        "outputId": "a35c4552-99b2-4e1e-ac7e-24132ac85e9e"
      },
      "source": [
        "# '''\n",
        "# INSTANTIATE MODEL CLASS\n",
        "# '''\n",
        "# model = DeepNeuralNetworkModel(input_size = input_dim,\n",
        "#                            num_classes = output_dim,\n",
        "#                            num_hidden = num_hidden)\n",
        "# # To enable GPU\n",
        "# model.to(device)"
      ],
      "execution_count": null,
      "outputs": [
        {
          "output_type": "execute_result",
          "data": {
            "text/plain": [
              "DeepNeuralNetworkModel(\n",
              "  (linear_1): Linear(in_features=32400, out_features=200, bias=True)\n",
              "  (relu_1): ReLU()\n",
              "  (linear_2): Linear(in_features=200, out_features=200, bias=True)\n",
              "  (relu_2): ReLU()\n",
              "  (linear_3): Linear(in_features=200, out_features=200, bias=True)\n",
              "  (relu_3): ReLU()\n",
              "  (linear_4): Linear(in_features=200, out_features=200, bias=True)\n",
              "  (relu_4): ReLU()\n",
              "  (linear_5): Linear(in_features=200, out_features=200, bias=True)\n",
              "  (relu_5): ReLU()\n",
              "  (linear_6): Linear(in_features=200, out_features=200, bias=True)\n",
              "  (relu_6): ReLU()\n",
              "  (linear_out): Linear(in_features=200, out_features=10, bias=True)\n",
              ")"
            ]
          },
          "metadata": {},
          "execution_count": 61
        }
      ]
    },
    {
      "cell_type": "code",
      "metadata": {
        "id": "GvSkkwxICaVQ"
      },
      "source": [
        "# criterion = nn.CrossEntropyLoss()\n",
        "# optimizer = torch.optim.SGD(model.parameters(), lr=learning_rate)"
      ],
      "execution_count": null,
      "outputs": []
    },
    {
      "cell_type": "code",
      "metadata": {
        "colab": {
          "base_uri": "https://localhost:8080/"
        },
        "id": "OSycxNBGC9-p",
        "outputId": "a4f964ab-9b5a-45c6-cb03-02c42de57d0d"
      },
      "source": [
        "# iteration_loss = []\n",
        "# iter = 0\n",
        "# for epoch in range(num_epochs):\n",
        "#     for i, (images, labels) in enumerate(train_loader):\n",
        "\n",
        "#         images = images.view(-1, 180*180).to(device)\n",
        "#         labels = labels.to(device)\n",
        "\n",
        "#         # Clear gradients w.r.t. parameters\n",
        "#         optimizer.zero_grad()\n",
        "\n",
        "#         # Forward pass to get output/logits\n",
        "#         outputs = model(images) \n",
        "\n",
        "#         # Calculate Loss: softmax --> cross entropy loss\n",
        "#         loss = criterion(outputs, labels)\n",
        "\n",
        "#         # Getting gradients w.r.t. parameters\n",
        "#         loss.backward()\n",
        "\n",
        "#         # Updating parameters\n",
        "#         optimizer.step()\n",
        "\n",
        "#         iter += 1\n",
        "\n",
        "#         if iter % 500 == 0:\n",
        "#             # Calculate Accuracy         \n",
        "#             correct = 0\n",
        "#             total = 0\n",
        "#             # Iterate through test dataset\n",
        "#             for images, labels in test_loader:\n",
        "               \n",
        "#                 images = images.view(-1, 180*180).to(device)\n",
        "\n",
        "#                 # Forward pass only to get logits/output\n",
        "#                 outputs = model(images)\n",
        "\n",
        "#                 # Get predictions from the maximum value\n",
        "#                 _, predicted = torch.max(outputs, 1)\n",
        "\n",
        "#                 # Total number of labels\n",
        "#                 total += labels.size(0)\n",
        "\n",
        "\n",
        "#                 # Total correct predictions\n",
        "#                 if torch.cuda.is_available():\n",
        "#                     correct += (predicted.cpu() == labels.cpu()).sum() \n",
        "#                 else:\n",
        "#                     correct += (predicted == labels).sum()\n",
        "\n",
        "#             accuracy = 100 * correct.item() / total\n",
        "\n",
        "#             # Print Loss\n",
        "#             iteration_loss.append(loss.item())\n",
        "#             print('Iteration: {}. Loss: {}. Accuracy: {}'.format(iter, loss.item(), accuracy))"
      ],
      "execution_count": null,
      "outputs": [
        {
          "output_type": "stream",
          "text": [
            "Iteration: 500. Loss: 2.2977120876312256. Accuracy: 9.691358024691358\n",
            "Iteration: 1000. Loss: 2.2957606315612793. Accuracy: 11.522633744855968\n",
            "Iteration: 1500. Loss: 2.294903516769409. Accuracy: 9.938271604938272\n",
            "Iteration: 2000. Loss: 2.303469181060791. Accuracy: 9.691358024691358\n",
            "Iteration: 2500. Loss: 2.3085155487060547. Accuracy: 10.020576131687243\n",
            "Iteration: 3000. Loss: 2.3024868965148926. Accuracy: 9.691358024691358\n",
            "Iteration: 3500. Loss: 2.306762218475342. Accuracy: 10.267489711934155\n",
            "Iteration: 4000. Loss: 2.30536150932312. Accuracy: 10.020576131687243\n",
            "Iteration: 4500. Loss: 2.3049330711364746. Accuracy: 9.691358024691358\n",
            "Iteration: 5000. Loss: 2.2970213890075684. Accuracy: 9.938271604938272\n",
            "Iteration: 5500. Loss: 2.3010504245758057. Accuracy: 10.020576131687243\n",
            "Iteration: 6000. Loss: 2.3053441047668457. Accuracy: 9.300411522633745\n",
            "Iteration: 6500. Loss: 2.305790901184082. Accuracy: 10.22633744855967\n",
            "Iteration: 7000. Loss: 2.306641101837158. Accuracy: 10.843621399176955\n",
            "Iteration: 7500. Loss: 2.2999961376190186. Accuracy: 9.91769547325103\n",
            "Iteration: 8000. Loss: 2.309901714324951. Accuracy: 10.061728395061728\n",
            "Iteration: 8500. Loss: 2.3021717071533203. Accuracy: 9.691358024691358\n",
            "Iteration: 9000. Loss: 2.3018484115600586. Accuracy: 10.534979423868313\n",
            "Iteration: 9500. Loss: 2.3031601905822754. Accuracy: 14.25925925925926\n",
            "Iteration: 10000. Loss: 2.3021464347839355. Accuracy: 9.938271604938272\n",
            "Iteration: 10500. Loss: 2.301497220993042. Accuracy: 10.020576131687243\n",
            "Iteration: 11000. Loss: 2.296017646789551. Accuracy: 9.794238683127572\n",
            "Iteration: 11500. Loss: 2.3016774654388428. Accuracy: 9.8559670781893\n",
            "Iteration: 12000. Loss: 2.2994072437286377. Accuracy: 11.460905349794238\n",
            "Iteration: 12500. Loss: 2.3021600246429443. Accuracy: 12.983539094650206\n",
            "Iteration: 13000. Loss: 2.2949156761169434. Accuracy: 13.724279835390947\n",
            "Iteration: 13500. Loss: 2.3138675689697266. Accuracy: 9.938271604938272\n",
            "Iteration: 14000. Loss: 2.3009989261627197. Accuracy: 11.152263374485596\n",
            "Iteration: 14500. Loss: 2.284909248352051. Accuracy: 9.279835390946502\n",
            "Iteration: 15000. Loss: 2.3688952922821045. Accuracy: 9.897119341563785\n",
            "Iteration: 15500. Loss: 2.2884185314178467. Accuracy: 13.559670781893004\n",
            "Iteration: 16000. Loss: 2.269522190093994. Accuracy: 13.353909465020577\n",
            "Iteration: 16500. Loss: 2.3217098712921143. Accuracy: 15.246913580246913\n",
            "Iteration: 17000. Loss: 2.2110719680786133. Accuracy: 10.1440329218107\n",
            "Iteration: 17500. Loss: 2.3458127975463867. Accuracy: 9.77366255144033\n",
            "Iteration: 18000. Loss: 2.261690616607666. Accuracy: 15.925925925925926\n",
            "Iteration: 18500. Loss: 2.2373292446136475. Accuracy: 19.4238683127572\n",
            "Iteration: 19000. Loss: 2.0979490280151367. Accuracy: 17.11934156378601\n"
          ],
          "name": "stdout"
        }
      ]
    },
    {
      "cell_type": "code",
      "metadata": {
        "id": "mnjoiacTGKFR",
        "colab": {
          "base_uri": "https://localhost:8080/",
          "height": 316
        },
        "outputId": "a2374812-dcc6-4933-945d-ab5037547188"
      },
      "source": [
        "# import matplotlib\n",
        "# import matplotlib.pyplot as plt\n",
        "\n",
        "# print (iteration_loss)\n",
        "# plt.plot(iteration_loss)\n",
        "# plt.ylabel('Cross Entropy Loss')\n",
        "# plt.xlabel('Iteration (in every 500)')\n",
        "# plt.show()"
      ],
      "execution_count": null,
      "outputs": [
        {
          "output_type": "stream",
          "text": [
            "[2.2977120876312256, 2.2957606315612793, 2.294903516769409, 2.303469181060791, 2.3085155487060547, 2.3024868965148926, 2.306762218475342, 2.30536150932312, 2.3049330711364746, 2.2970213890075684, 2.3010504245758057, 2.3053441047668457, 2.305790901184082, 2.306641101837158, 2.2999961376190186, 2.309901714324951, 2.3021717071533203, 2.3018484115600586, 2.3031601905822754, 2.3021464347839355, 2.301497220993042, 2.296017646789551, 2.3016774654388428, 2.2994072437286377, 2.3021600246429443, 2.2949156761169434, 2.3138675689697266, 2.3009989261627197, 2.284909248352051, 2.3688952922821045, 2.2884185314178467, 2.269522190093994, 2.3217098712921143, 2.2110719680786133, 2.3458127975463867, 2.261690616607666, 2.2373292446136475, 2.0979490280151367]\n"
          ],
          "name": "stdout"
        },
        {
          "output_type": "display_data",
          "data": {
            "image/png": "[encoded data removed]",
            "text/plain": [
              "<Figure size 432x288 with 1 Axes>"
            ]
          },
          "metadata": {
            "needs_background": "light"
          }
        }
      ]
    },
    {
      "cell_type": "code",
      "metadata": {
        "id": "O_ps60bnO1Vx"
      },
      "source": [
        "# save_path = '/content/drive/My Drive/soft coding lab/assignment 2/'\n",
        "# save_model = True\n",
        "\n",
        "# if save_model is True:\n",
        "#     # Saves only parameters\n",
        "#     # weights & biases\n",
        "#     torch.save(model.state_dict(), save_path + 'Assignment2_model_exp1.pkl') "
      ],
      "execution_count": null,
      "outputs": []
    },
    {
      "cell_type": "code",
      "metadata": {
        "id": "Eqa7GWJVPJjI",
        "colab": {
          "base_uri": "https://localhost:8080/"
        },
        "outputId": "1849e4ec-4b89-4c00-ebb4-0d088df106f5"
      },
      "source": [
        "# load_model = True\n",
        "\n",
        "# if load_model is True:\n",
        "#     model.load_state_dict(torch.load(save_path + 'Assignment2_model_exp1.pkl'))\n",
        "#     print('Trained Model Loaded')"
      ],
      "execution_count": null,
      "outputs": [
        {
          "output_type": "stream",
          "text": [
            "Trained Model Loaded\n"
          ],
          "name": "stdout"
        }
      ]
    },
    {
      "cell_type": "code",
      "metadata": {
        "id": "CboI6mdhPirg",
        "colab": {
          "base_uri": "https://localhost:8080/"
        },
        "outputId": "bcdf48fe-62fc-49cf-f06e-83542367e592"
      },
      "source": [
        "# print(model)"
      ],
      "execution_count": null,
      "outputs": [
        {
          "output_type": "stream",
          "text": [
            "DeepNeuralNetworkModel(\n",
            "  (linear_1): Linear(in_features=32400, out_features=200, bias=True)\n",
            "  (relu_1): ReLU()\n",
            "  (linear_2): Linear(in_features=200, out_features=200, bias=True)\n",
            "  (relu_2): ReLU()\n",
            "  (linear_3): Linear(in_features=200, out_features=200, bias=True)\n",
            "  (relu_3): ReLU()\n",
            "  (linear_4): Linear(in_features=200, out_features=200, bias=True)\n",
            "  (relu_4): ReLU()\n",
            "  (linear_5): Linear(in_features=200, out_features=200, bias=True)\n",
            "  (relu_5): ReLU()\n",
            "  (linear_6): Linear(in_features=200, out_features=200, bias=True)\n",
            "  (relu_6): ReLU()\n",
            "  (linear_out): Linear(in_features=200, out_features=10, bias=True)\n",
            ")\n"
          ],
          "name": "stdout"
        }
      ]
    },
    {
      "cell_type": "markdown",
      "metadata": {
        "id": "lcHNm40QfOb0"
      },
      "source": [
        "#**Dataset 2**"
      ]
    },
    {
      "cell_type": "code",
      "metadata": {
        "id": "hZAOYZG4SuL9",
        "colab": {
          "base_uri": "https://localhost:8080/"
        },
        "outputId": "315f8df9-a2ba-47d1-abf4-e93bc70cf259"
      },
      "source": [
        "dataset2_train = pd.read_csv(second_dataset_directory+'verification_train.csv')\n",
        "dataset2_test = pd.read_csv(second_dataset_directory+'verification_test.csv')\n",
        "print(dataset2_train)"
      ],
      "execution_count": null,
      "outputs": [
        {
          "output_type": "stream",
          "name": "stdout",
          "text": [
            "       label  pixel1  pixel2  pixel3  ...  pixel781  pixel782  pixel783  pixel784\n",
            "0          2       0       0       0  ...         0         0         0         0\n",
            "1          9       0       0       0  ...         0         0         0         0\n",
            "2          6       0       0       0  ...         0         0         0         0\n",
            "3          0       0       0       0  ...         0         0         0         0\n",
            "4          3       0       0       0  ...         0         0         0         0\n",
            "...      ...     ...     ...     ...  ...       ...       ...       ...       ...\n",
            "59995      9       0       0       0  ...         0         0         0         0\n",
            "59996      1       0       0       0  ...         0         0         0         0\n",
            "59997      8       0       0       0  ...         0         0         0         0\n",
            "59998      8       0       0       0  ...         0         0         0         0\n",
            "59999      7       0       0       0  ...         0         0         0         0\n",
            "\n",
            "[60000 rows x 785 columns]\n"
          ]
        }
      ]
    },
    {
      "cell_type": "code",
      "metadata": {
        "id": "skhercC0eTBy",
        "colab": {
          "base_uri": "https://localhost:8080/"
        },
        "outputId": "fe179342-3078-4bd2-cb01-559a579fde53"
      },
      "source": [
        "print(dataset2_test)"
      ],
      "execution_count": null,
      "outputs": [
        {
          "output_type": "stream",
          "name": "stdout",
          "text": [
            "      label  pixel1  pixel2  pixel3  ...  pixel781  pixel782  pixel783  pixel784\n",
            "0         0       0       0       0  ...         0         0         0         0\n",
            "1         1       0       0       0  ...         0         0         0         0\n",
            "2         2       0       0       0  ...        31         0         0         0\n",
            "3         2       0       0       0  ...       222        56         0         0\n",
            "4         3       0       0       0  ...         0         0         0         0\n",
            "...     ...     ...     ...     ...  ...       ...       ...       ...       ...\n",
            "9995      0       0       0       0  ...         1         0         0         0\n",
            "9996      6       0       0       0  ...        28         0         0         0\n",
            "9997      8       0       0       0  ...        42         0         1         0\n",
            "9998      8       0       1       3  ...         0         0         0         0\n",
            "9999      1       0       0       0  ...         0         0         0         0\n",
            "\n",
            "[10000 rows x 785 columns]\n"
          ]
        }
      ]
    },
    {
      "cell_type": "code",
      "metadata": {
        "id": "iZ1CrbNqqK9j"
      },
      "source": [
        "dataset2_train_x = dataset2_train.iloc[:,1:785]\n",
        "dataset2_train_y = dataset2_train.iloc[:,0]\n",
        "\n",
        "dataset2_test_x = dataset2_test.iloc[:,1:785]\n",
        "dataset2_test_y = dataset2_test.iloc[:,0]"
      ],
      "execution_count": null,
      "outputs": []
    },
    {
      "cell_type": "code",
      "metadata": {
        "id": "S-vyd6igah1o",
        "colab": {
          "base_uri": "https://localhost:8080/"
        },
        "outputId": "95e9eead-cf65-4fc5-b884-630d7fedec68"
      },
      "source": [
        "print(dataset2_train_x)"
      ],
      "execution_count": null,
      "outputs": [
        {
          "output_type": "stream",
          "name": "stdout",
          "text": [
            "       pixel1  pixel2  pixel3  pixel4  ...  pixel781  pixel782  pixel783  pixel784\n",
            "0           0       0       0       0  ...         0         0         0         0\n",
            "1           0       0       0       0  ...         0         0         0         0\n",
            "2           0       0       0       0  ...         0         0         0         0\n",
            "3           0       0       0       1  ...         0         0         0         0\n",
            "4           0       0       0       0  ...         0         0         0         0\n",
            "...       ...     ...     ...     ...  ...       ...       ...       ...       ...\n",
            "59995       0       0       0       0  ...         0         0         0         0\n",
            "59996       0       0       0       0  ...         0         0         0         0\n",
            "59997       0       0       0       0  ...         0         0         0         0\n",
            "59998       0       0       0       0  ...         0         0         0         0\n",
            "59999       0       0       0       0  ...         0         0         0         0\n",
            "\n",
            "[60000 rows x 784 columns]\n"
          ]
        }
      ]
    },
    {
      "cell_type": "code",
      "metadata": {
        "id": "7rIam7-OahSr",
        "colab": {
          "base_uri": "https://localhost:8080/"
        },
        "outputId": "6809b71c-29c9-4c09-e1fd-4f226d8aa7d4"
      },
      "source": [
        "print(dataset2_train_y)"
      ],
      "execution_count": null,
      "outputs": [
        {
          "output_type": "stream",
          "name": "stdout",
          "text": [
            "0        2\n",
            "1        9\n",
            "2        6\n",
            "3        0\n",
            "4        3\n",
            "        ..\n",
            "59995    9\n",
            "59996    1\n",
            "59997    8\n",
            "59998    8\n",
            "59999    7\n",
            "Name: label, Length: 60000, dtype: int64\n"
          ]
        }
      ]
    },
    {
      "cell_type": "code",
      "metadata": {
        "id": "f--yaRxx1jF8"
      },
      "source": [
        "dataset2_train_x = np.asarray(dataset2_train_x)\n",
        "dataset2_test_x = np.asarray(dataset2_test_x)"
      ],
      "execution_count": null,
      "outputs": []
    },
    {
      "cell_type": "code",
      "metadata": {
        "id": "RETkM9G4svGy"
      },
      "source": [
        "width = 180\n",
        "height = 180\n",
        "dim = (width, height)\n",
        "ind1 = 0\n",
        "ind2 = 0\n",
        "Final_dataset2_train = [] \n",
        "Final_dataset2_test = []\n",
        "\n",
        "for i in dataset2_train_x:\n",
        "  temp = i.reshape((28,28)).astype('float32')\n",
        "  temp = cv2.resize(temp, dim, interpolation = cv2.INTER_AREA)\n",
        "  temp = cv2.normalize(temp, None, alpha=0, beta=1, norm_type=cv2.NORM_MINMAX, dtype=cv2.CV_32F)\n",
        "  temp = torch.tensor(temp)\n",
        "  label = dataset2_train_y[ind1]\n",
        "  temp = (temp,label)\n",
        "  Final_dataset2_train.append(temp)\n",
        "  ind1 = ind1 + 1\n",
        "\n",
        "for i in dataset2_test_x:\n",
        "  temp = i.reshape((28,28)).astype('float32')\n",
        "  temp = cv2.resize(temp, dim, interpolation = cv2.INTER_AREA)\n",
        "  temp = cv2.normalize(temp, None, alpha=0, beta=1, norm_type=cv2.NORM_MINMAX, dtype=cv2.CV_32F)\n",
        "  temp = torch.tensor(temp)\n",
        "  label = dataset2_test_y[ind2]\n",
        "  temp = (temp,label)\n",
        "  Final_dataset2_test.append(temp)\n",
        "  ind2 = ind2 + 1"
      ],
      "execution_count": null,
      "outputs": []
    },
    {
      "cell_type": "code",
      "metadata": {
        "colab": {
          "base_uri": "https://localhost:8080/"
        },
        "id": "8OutDix1NvZ4",
        "outputId": "9e8ce4c5-f9a7-4c44-e6f6-6e5ad7a534fa"
      },
      "source": [
        "print(Final_dataset2_train[0])"
      ],
      "execution_count": null,
      "outputs": [
        {
          "output_type": "stream",
          "name": "stdout",
          "text": [
            "(tensor([[0., 0., 0.,  ..., 0., 0., 0.],\n",
            "        [0., 0., 0.,  ..., 0., 0., 0.],\n",
            "        [0., 0., 0.,  ..., 0., 0., 0.],\n",
            "        ...,\n",
            "        [0., 0., 0.,  ..., 0., 0., 0.],\n",
            "        [0., 0., 0.,  ..., 0., 0., 0.],\n",
            "        [0., 0., 0.,  ..., 0., 0., 0.]]), 2)\n"
          ]
        }
      ]
    },
    {
      "cell_type": "code",
      "metadata": {
        "colab": {
          "base_uri": "https://localhost:8080/"
        },
        "id": "9ftZbA3TcDuN",
        "outputId": "049859e1-4706-49b0-9cda-794a12f32575"
      },
      "source": [
        "print(Final_dataset2_test[0])"
      ],
      "execution_count": null,
      "outputs": [
        {
          "output_type": "stream",
          "name": "stdout",
          "text": [
            "(tensor([[0., 0., 0.,  ..., 0., 0., 0.],\n",
            "        [0., 0., 0.,  ..., 0., 0., 0.],\n",
            "        [0., 0., 0.,  ..., 0., 0., 0.],\n",
            "        ...,\n",
            "        [0., 0., 0.,  ..., 0., 0., 0.],\n",
            "        [0., 0., 0.,  ..., 0., 0., 0.],\n",
            "        [0., 0., 0.,  ..., 0., 0., 0.]]), 0)\n"
          ]
        }
      ]
    },
    {
      "cell_type": "code",
      "metadata": {
        "id": "t36-BR_EcHWL"
      },
      "source": [
        "batch_size = 20\n",
        "train_loader = torch.utils.data.DataLoader(dataset=Final_dataset2_train, \n",
        "                                           batch_size=batch_size, \n",
        "                                           shuffle=True)  \n",
        "\n",
        "test_loader = torch.utils.data.DataLoader(dataset=Final_dataset2_test, \n",
        "                                          batch_size=batch_size, \n",
        "                                          shuffle=False)  "
      ],
      "execution_count": null,
      "outputs": []
    },
    {
      "cell_type": "code",
      "metadata": {
        "id": "o4oNqimVcdiK"
      },
      "source": [
        "num_epochs = num_iters / (len(Final_dataset2_train) / batch_size)\n",
        "num_epochs = int(num_epochs)"
      ],
      "execution_count": null,
      "outputs": []
    },
    {
      "cell_type": "code",
      "metadata": {
        "colab": {
          "base_uri": "https://localhost:8080/"
        },
        "id": "S8KNYDwicqY6",
        "outputId": "526f302a-0f34-46af-ea3a-718cc36e8ab8"
      },
      "source": [
        "'''\n",
        "INSTANTIATE MODEL CLASS\n",
        "'''\n",
        "model = DeepNeuralNetworkModel(input_size = input_dim,\n",
        "                           num_classes = output_dim,\n",
        "                           num_hidden = num_hidden)\n",
        "# To enable GPU\n",
        "model.to(device)"
      ],
      "execution_count": null,
      "outputs": [
        {
          "output_type": "execute_result",
          "data": {
            "text/plain": [
              "DeepNeuralNetworkModel(\n",
              "  (linear_1): Linear(in_features=32400, out_features=200, bias=True)\n",
              "  (relu_1): ReLU()\n",
              "  (linear_2): Linear(in_features=200, out_features=200, bias=True)\n",
              "  (relu_2): ReLU()\n",
              "  (linear_3): Linear(in_features=200, out_features=200, bias=True)\n",
              "  (relu_3): ReLU()\n",
              "  (linear_4): Linear(in_features=200, out_features=200, bias=True)\n",
              "  (relu_4): ReLU()\n",
              "  (linear_5): Linear(in_features=200, out_features=200, bias=True)\n",
              "  (relu_5): ReLU()\n",
              "  (linear_6): Linear(in_features=200, out_features=200, bias=True)\n",
              "  (relu_6): ReLU()\n",
              "  (linear_out): Linear(in_features=200, out_features=10, bias=True)\n",
              ")"
            ]
          },
          "metadata": {},
          "execution_count": 17
        }
      ]
    },
    {
      "cell_type": "code",
      "metadata": {
        "id": "fwvsRWLFc9V0"
      },
      "source": [
        "criterion = nn.CrossEntropyLoss()\n",
        "optimizer = torch.optim.SGD(model.parameters(), lr=learning_rate)"
      ],
      "execution_count": null,
      "outputs": []
    },
    {
      "cell_type": "code",
      "metadata": {
        "colab": {
          "base_uri": "https://localhost:8080/"
        },
        "id": "wvDiyw90c_Fj",
        "outputId": "34b00d79-4a5e-402b-ebb9-717532305319"
      },
      "source": [
        "iteration_loss = []\n",
        "iter = 0\n",
        "for epoch in range(num_epochs):\n",
        "    for i, (images, labels) in enumerate(train_loader):\n",
        "\n",
        "        images = images.view(-1, 180*180).to(device)\n",
        "        labels = labels.to(device)\n",
        "\n",
        "        # Clear gradients w.r.t. parameters\n",
        "        optimizer.zero_grad()\n",
        "\n",
        "        # Forward pass to get output/logits\n",
        "        outputs = model(images) \n",
        "\n",
        "        # Calculate Loss: softmax --> cross entropy loss\n",
        "        loss = criterion(outputs, labels)\n",
        "\n",
        "        # Getting gradients w.r.t. parameters\n",
        "        loss.backward()\n",
        "\n",
        "        # Updating parameters\n",
        "        optimizer.step()\n",
        "\n",
        "        iter += 1\n",
        "\n",
        "        if iter % 500 == 0:\n",
        "            # Calculate Accuracy         \n",
        "            correct = 0\n",
        "            total = 0\n",
        "            # Iterate through test dataset\n",
        "            for images, labels in test_loader:\n",
        "               \n",
        "                images = images.view(-1, 180*180).to(device)\n",
        "\n",
        "                # Forward pass only to get logits/output\n",
        "                outputs = model(images)\n",
        "\n",
        "                # Get predictions from the maximum value\n",
        "                _, predicted = torch.max(outputs, 1)\n",
        "\n",
        "                # Total number of labels\n",
        "                total += labels.size(0)\n",
        "\n",
        "\n",
        "                # Total correct predictions\n",
        "                if torch.cuda.is_available():\n",
        "                    correct += (predicted.cpu() == labels.cpu()).sum() \n",
        "                else:\n",
        "                    correct += (predicted == labels).sum()\n",
        "\n",
        "            accuracy = 100 * correct.item() / total\n",
        "\n",
        "            # Print Loss\n",
        "            iteration_loss.append(loss.item())\n",
        "            print('Iteration: {}. Loss: {}. Accuracy: {}'.format(iter, loss.item(), accuracy))"
      ],
      "execution_count": null,
      "outputs": [
        {
          "output_type": "stream",
          "name": "stdout",
          "text": [
            "Iteration: 500. Loss: 2.268378496170044. Accuracy: 47.44\n",
            "Iteration: 1000. Loss: 1.2685235738754272. Accuracy: 53.04\n",
            "Iteration: 1500. Loss: 0.8256511688232422. Accuracy: 65.53\n",
            "Iteration: 2000. Loss: 0.5228264927864075. Accuracy: 71.66\n",
            "Iteration: 2500. Loss: 0.8100782632827759. Accuracy: 75.31\n",
            "Iteration: 3000. Loss: 0.5623299479484558. Accuracy: 76.36\n",
            "Iteration: 3500. Loss: 1.0542203187942505. Accuracy: 77.33\n",
            "Iteration: 4000. Loss: 0.43914204835891724. Accuracy: 79.2\n",
            "Iteration: 4500. Loss: 0.6113525629043579. Accuracy: 77.1\n",
            "Iteration: 5000. Loss: 0.42135047912597656. Accuracy: 81.61\n",
            "Iteration: 5500. Loss: 0.5948345065116882. Accuracy: 83.02\n",
            "Iteration: 6000. Loss: 0.9145246744155884. Accuracy: 83.46\n",
            "Iteration: 6500. Loss: 0.43560609221458435. Accuracy: 81.38\n",
            "Iteration: 7000. Loss: 0.9428593516349792. Accuracy: 84.7\n",
            "Iteration: 7500. Loss: 0.14533111453056335. Accuracy: 83.95\n",
            "Iteration: 8000. Loss: 0.5626212358474731. Accuracy: 83.4\n",
            "Iteration: 8500. Loss: 0.3475434184074402. Accuracy: 85.14\n",
            "Iteration: 9000. Loss: 0.2570841908454895. Accuracy: 85.78\n",
            "Iteration: 9500. Loss: 0.5428808927536011. Accuracy: 85.83\n",
            "Iteration: 10000. Loss: 0.4857111871242523. Accuracy: 86.12\n",
            "Iteration: 10500. Loss: 0.36240309476852417. Accuracy: 85.75\n",
            "Iteration: 11000. Loss: 0.6965721249580383. Accuracy: 84.24\n",
            "Iteration: 11500. Loss: 0.5188680291175842. Accuracy: 86.29\n",
            "Iteration: 12000. Loss: 0.18222279846668243. Accuracy: 86.02\n",
            "Iteration: 12500. Loss: 0.11352352797985077. Accuracy: 86.3\n",
            "Iteration: 13000. Loss: 0.550051212310791. Accuracy: 86.28\n",
            "Iteration: 13500. Loss: 0.46253347396850586. Accuracy: 84.95\n",
            "Iteration: 14000. Loss: 0.3493184745311737. Accuracy: 85.39\n",
            "Iteration: 14500. Loss: 0.12782825529575348. Accuracy: 86.77\n",
            "Iteration: 15000. Loss: 0.2541627287864685. Accuracy: 87.47\n",
            "Iteration: 15500. Loss: 0.19048184156417847. Accuracy: 86.92\n",
            "Iteration: 16000. Loss: 0.23984766006469727. Accuracy: 87.25\n",
            "Iteration: 16500. Loss: 0.1595383584499359. Accuracy: 86.83\n",
            "Iteration: 17000. Loss: 0.16087977588176727. Accuracy: 87.61\n",
            "Iteration: 17500. Loss: 0.11018602550029755. Accuracy: 87.67\n",
            "Iteration: 18000. Loss: 0.1350238174200058. Accuracy: 87.21\n"
          ]
        }
      ]
    },
    {
      "cell_type": "code",
      "metadata": {
        "colab": {
          "base_uri": "https://localhost:8080/",
          "height": 316
        },
        "id": "2nog46KndRXz",
        "outputId": "7087f232-abd4-4e85-f4e9-cf74af193ef2"
      },
      "source": [
        "import matplotlib\n",
        "import matplotlib.pyplot as plt\n",
        "\n",
        "print (iteration_loss)\n",
        "plt.plot(iteration_loss)\n",
        "plt.ylabel('Cross Entropy Loss')\n",
        "plt.xlabel('Iteration (in every 500)')\n",
        "plt.show()"
      ],
      "execution_count": null,
      "outputs": [
        {
          "output_type": "stream",
          "name": "stdout",
          "text": [
            "[2.268378496170044, 1.2685235738754272, 0.8256511688232422, 0.5228264927864075, 0.8100782632827759, 0.5623299479484558, 1.0542203187942505, 0.43914204835891724, 0.6113525629043579, 0.42135047912597656, 0.5948345065116882, 0.9145246744155884, 0.43560609221458435, 0.9428593516349792, 0.14533111453056335, 0.5626212358474731, 0.3475434184074402, 0.2570841908454895, 0.5428808927536011, 0.4857111871242523, 0.36240309476852417, 0.6965721249580383, 0.5188680291175842, 0.18222279846668243, 0.11352352797985077, 0.550051212310791, 0.46253347396850586, 0.3493184745311737, 0.12782825529575348, 0.2541627287864685, 0.19048184156417847, 0.23984766006469727, 0.1595383584499359, 0.16087977588176727, 0.11018602550029755, 0.1350238174200058]\n"
          ]
        },
        {
          "output_type": "display_data",
          "data": {
            "image/png": "[encoded data removed]",
            "text/plain": [
              "<Figure size 432x288 with 1 Axes>"
            ]
          },
          "metadata": {
            "needs_background": "light"
          }
        }
      ]
    }
  ]
}